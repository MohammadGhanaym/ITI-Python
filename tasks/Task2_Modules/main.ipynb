{
 "cells": [
  {
   "cell_type": "code",
   "execution_count": 4,
   "id": "1edc8246-1711-415c-a95f-1382c318ab59",
   "metadata": {},
   "outputs": [],
   "source": [
    "from user_validation import is_valid_email, is_valid_name\n",
    "from textfunc import is_vowel, print_i_locations\n",
    "from multtable import print_mult_table, get_mult_table\n",
    "from mariopyramid import mario_from_num, mario_from_list\n",
    "from listsort import print_sorted_arr"
   ]
  },
  {
   "cell_type": "code",
   "execution_count": 2,
   "id": "a8d7a4bb-0a46-4018-b8ac-f4a83a8a56db",
   "metadata": {},
   "outputs": [
    {
     "name": "stdin",
     "output_type": "stream",
     "text": [
      "Enter a text:  Hello, Itians\n"
     ]
    },
    {
     "name": "stdout",
     "output_type": "stream",
     "text": [
      "Number of vowels is 5\n",
      " i location 9\n"
     ]
    }
   ],
   "source": [
    "user_input = input('Enter a text: ')\n",
    "vowels_count = sum(map(is_vowel, user_input))\n",
    "print(f\"Number of vowels is {vowels_count}\")\n",
    "print_i_locations(user_input)"
   ]
  },
  {
   "cell_type": "code",
   "execution_count": 4,
   "id": "2bf936e6-35fd-40ed-aded-1a22cbf84750",
   "metadata": {},
   "outputs": [
    {
     "name": "stdin",
     "output_type": "stream",
     "text": [
      "Enter a number:  5\n"
     ]
    },
    {
     "name": "stdout",
     "output_type": "stream",
     "text": [
      "1x1=1\n",
      "==========\n",
      "2x1=2\n",
      "2x2=4\n",
      "==========\n",
      "3x1=3\n",
      "3x2=6\n",
      "3x3=9\n",
      "==========\n",
      "4x1=4\n",
      "4x2=8\n",
      "4x3=12\n",
      "4x4=16\n",
      "==========\n",
      "5x1=5\n",
      "5x2=10\n",
      "5x3=15\n",
      "5x4=20\n",
      "5x5=25\n",
      "==========\n"
     ]
    }
   ],
   "source": [
    "user_input = int(input('Enter a number: '))\n",
    "print_mult_table(user_input)"
   ]
  },
  {
   "cell_type": "code",
   "execution_count": 3,
   "id": "b5f46732-a6af-442b-9721-480e4bea485e",
   "metadata": {},
   "outputs": [
    {
     "name": "stdin",
     "output_type": "stream",
     "text": [
      "Enter a number:  5\n"
     ]
    },
    {
     "name": "stdout",
     "output_type": "stream",
     "text": [
      "    *\n",
      "   **\n",
      "  ***\n",
      " ****\n",
      "*****\n"
     ]
    }
   ],
   "source": [
    "user_input = int(input('Enter a number: '))\n",
    "mario_from_num(user_input)"
   ]
  },
  {
   "cell_type": "code",
   "execution_count": 4,
   "id": "d73db770-5b6a-4978-ac87-0ca9c1cedaf2",
   "metadata": {},
   "outputs": [
    {
     "name": "stdout",
     "output_type": "stream",
     "text": [
      "    *\n",
      "   **\n",
      "  ***\n",
      " ****\n",
      "*****\n"
     ]
    }
   ],
   "source": [
    "l = [' ', ' ', ' ', ' ', ' ']\n",
    "mario_from_list(l)"
   ]
  },
  {
   "cell_type": "code",
   "execution_count": 6,
   "id": "e7083301-9e5b-4206-b732-0d97576db4ae",
   "metadata": {},
   "outputs": [
    {
     "name": "stdin",
     "output_type": "stream",
     "text": [
      "Enter a number:  10\n",
      "Enter a number:  3\n",
      "Enter a number:  11\n",
      "Enter a number:  3\n",
      "Enter a number:  4\n"
     ]
    },
    {
     "name": "stdout",
     "output_type": "stream",
     "text": [
      "Original List:  [10, 3, 11, 3, 4]\n",
      "Sorted Descending:  [11, 10, 4, 3, 3]\n",
      "Sorted Ascedning:  [3, 3, 4, 10, 11]\n"
     ]
    }
   ],
   "source": [
    "nums = []\n",
    "while len(nums) < 5:\n",
    "    x = input('Enter a number: ').strip()\n",
    "    if x.isdigit():\n",
    "        nums.append(int(x))\n",
    "    else:\n",
    "        print(\"Wrong input! Please enter a number\")\n",
    "\n",
    "print_sorted_arr(nums)"
   ]
  },
  {
   "cell_type": "code",
   "execution_count": 2,
   "id": "032323ca-ebf4-4df0-ad0f-1ecb6834fb4e",
   "metadata": {},
   "outputs": [
    {
     "name": "stdin",
     "output_type": "stream",
     "text": [
      "Enter a number:  5\n"
     ]
    },
    {
     "name": "stdout",
     "output_type": "stream",
     "text": [
      "[[1], [2, 4], [3, 6, 9], [4, 8, 12, 16], [5, 10, 15, 20, 25]]\n"
     ]
    }
   ],
   "source": [
    "n = input('Enter a number: ')\n",
    "while not n.isdigit():\n",
    "    n = input(\"Please enter a number: \")\n",
    "    \n",
    "n = int(n)\n",
    "\n",
    "tables = get_mult_table(n)\n",
    "print(tables)"
   ]
  },
  {
   "cell_type": "code",
   "execution_count": 5,
   "id": "936789e7-3704-4119-9323-67e5b930166e",
   "metadata": {},
   "outputs": [
    {
     "name": "stdin",
     "output_type": "stream",
     "text": [
      "Please enter your name:  123\n",
      "Please enter your name:   \n",
      "Please enter your name:  \n",
      "Please enter your name:  Nour\n",
      "Please enter your email:  nour@@gmail.com\n"
     ]
    },
    {
     "name": "stdout",
     "output_type": "stream",
     "text": [
      "Invalid Email!\n"
     ]
    },
    {
     "name": "stdin",
     "output_type": "stream",
     "text": [
      "Please enter your email:  nour.com\n",
      "Please enter your email:  nour@.com\n",
      "Please enter your email:  nour@gmail.com\n"
     ]
    },
    {
     "name": "stdout",
     "output_type": "stream",
     "text": [
      "Nour\n",
      "nour@gmail.com\n"
     ]
    }
   ],
   "source": [
    "name = ''\n",
    "while not is_valid_name(name):\n",
    "    name = input(\"Please enter your name: \").strip()\n",
    "\n",
    "email = ''\n",
    "while not is_valid_name(email) or not is_valid_email(email):\n",
    "    email = input(\"Please enter your email: \").strip()\n",
    "        \n",
    "print(name)\n",
    "print(email)"
   ]
  }
 ],
 "metadata": {
  "kernelspec": {
   "display_name": "Python 3 (ipykernel)",
   "language": "python",
   "name": "python3"
  },
  "language_info": {
   "codemirror_mode": {
    "name": "ipython",
    "version": 3
   },
   "file_extension": ".py",
   "mimetype": "text/x-python",
   "name": "python",
   "nbconvert_exporter": "python",
   "pygments_lexer": "ipython3",
   "version": "3.12.7"
  }
 },
 "nbformat": 4,
 "nbformat_minor": 5
}
