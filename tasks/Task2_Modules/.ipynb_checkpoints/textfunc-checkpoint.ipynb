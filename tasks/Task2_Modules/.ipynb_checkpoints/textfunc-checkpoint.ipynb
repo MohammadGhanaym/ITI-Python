{
 "cells": [
  {
   "cell_type": "code",
   "execution_count": 1,
   "id": "3facdab2-9aa4-4b2f-94d5-5564b31e34c5",
   "metadata": {},
   "outputs": [],
   "source": [
    "def is_vowel(c):\n",
    "    vowels = 'aeiou'\n",
    "    return c.lower() in vowels\n",
    "\n",
    "\n",
    "def print_i_locations(text):\n",
    "    for idx in range(len(user_input)):\n",
    "        if user_input[idx] == 'i':\n",
    "            print(f' i location {idx}')"
   ]
  }
 ],
 "metadata": {
  "kernelspec": {
   "display_name": "Python 3 (ipykernel)",
   "language": "python",
   "name": "python3"
  },
  "language_info": {
   "codemirror_mode": {
    "name": "ipython",
    "version": 3
   },
   "file_extension": ".py",
   "mimetype": "text/x-python",
   "name": "python",
   "nbconvert_exporter": "python",
   "pygments_lexer": "ipython3",
   "version": "3.12.7"
  }
 },
 "nbformat": 4,
 "nbformat_minor": 5
}
