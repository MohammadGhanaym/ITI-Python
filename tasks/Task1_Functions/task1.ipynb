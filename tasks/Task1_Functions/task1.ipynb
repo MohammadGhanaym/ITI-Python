{
 "cells": [
  {
   "cell_type": "markdown",
   "id": "a26e4d2a-0ae2-44a2-b134-4f86c5d0bf7e",
   "metadata": {},
   "source": [
    "## Lab 1"
   ]
  },
  {
   "cell_type": "markdown",
   "id": "2de34567-65ea-4ff6-af10-860fce20ec42",
   "metadata": {},
   "source": [
    "#### Task 1:Write a program that counts up  the number of vowels in a string"
   ]
  },
  {
   "cell_type": "code",
   "execution_count": 2,
   "id": "65901f53-5b92-47df-bcf7-d0f1d5fafa0b",
   "metadata": {},
   "outputs": [
    {
     "name": "stdin",
     "output_type": "stream",
     "text": [
      " Nour Ghanaym\n"
     ]
    },
    {
     "name": "stdout",
     "output_type": "stream",
     "text": [
      "Number of vowels is 4\n"
     ]
    }
   ],
   "source": [
    "def is_vowel(c):\n",
    "    vowels = 'aeiou'\n",
    "    return c.lower() in vowels\n",
    "\n",
    "user_input = input()\n",
    "vowels_count = sum(map(is_vowel, user_input))\n",
    "print(f\"Number of vowels is {vowels_count}\")"
   ]
  },
  {
   "cell_type": "markdown",
   "id": "1d131e3b-61ef-4a46-9087-08177cb467ac",
   "metadata": {},
   "source": [
    "#### Task 2: Write a program that prints the locations of \"i\" character in any string you added."
   ]
  },
  {
   "cell_type": "code",
   "execution_count": 3,
   "id": "94cb1595-1b11-455c-b899-5bce6c8da014",
   "metadata": {},
   "outputs": [
    {
     "name": "stdin",
     "output_type": "stream",
     "text": [
      " iti\n"
     ]
    },
    {
     "name": "stdout",
     "output_type": "stream",
     "text": [
      " i location 0\n",
      " i location 2\n"
     ]
    }
   ],
   "source": [
    "def print_i_locations(text):\n",
    "    for idx in range(len(text)):\n",
    "        if text[idx] == 'i':\n",
    "            print(f' i location {idx}')\n",
    "        \n",
    "user_input = input()\n",
    "print_i_locations(user_input)"
   ]
  },
  {
   "cell_type": "markdown",
   "id": "2741c2a8-bd70-4985-9c09-6a4fc6af09e9",
   "metadata": {},
   "source": [
    "#### Task 3: Write a program that generate a multiplication table from 1 to the number passed."
   ]
  },
  {
   "cell_type": "code",
   "execution_count": 7,
   "id": "c4dbf7a0-b308-4e1b-8650-0e351c9a6098",
   "metadata": {},
   "outputs": [
    {
     "name": "stdin",
     "output_type": "stream",
     "text": [
      "Enter a number:  5\n"
     ]
    },
    {
     "name": "stdout",
     "output_type": "stream",
     "text": [
      "1x1=1\n",
      "==========\n",
      "2x1=2\n",
      "2x2=4\n",
      "==========\n",
      "3x1=3\n",
      "3x2=6\n",
      "3x3=9\n",
      "==========\n",
      "4x1=4\n",
      "4x2=8\n",
      "4x3=12\n",
      "4x4=16\n",
      "==========\n",
      "5x1=5\n",
      "5x2=10\n",
      "5x3=15\n",
      "5x4=20\n",
      "5x5=25\n",
      "==========\n"
     ]
    }
   ],
   "source": [
    "def print_mult_table(num):\n",
    "    for i in range(1, num + 1):\n",
    "        for j in range(1, i+1):\n",
    "            print(f'{i}x{j}={i * j}')\n",
    "        print('=' * 10)\n",
    "\n",
    "user_input = int(input('Enter a number: '))\n",
    "print_mult_table(user_input)"
   ]
  },
  {
   "cell_type": "markdown",
   "id": "78a6cfaf-0584-4073-a4df-c4fe669481d1",
   "metadata": {},
   "source": [
    "#### Task 4: Write a program that build a Mario pyramid like below"
   ]
  },
  {
   "cell_type": "code",
   "execution_count": 9,
   "id": "166d9410-ab3a-4968-8046-92a089e31684",
   "metadata": {},
   "outputs": [
    {
     "name": "stdin",
     "output_type": "stream",
     "text": [
      "Enter a number:  4\n"
     ]
    },
    {
     "name": "stdout",
     "output_type": "stream",
     "text": [
      "   *\n",
      "  **\n",
      " ***\n",
      "****\n"
     ]
    }
   ],
   "source": [
    "def generate_mario_pyramid(base_size):\n",
    "    for i in range(1, base_size + 1):\n",
    "        print(' ' * (base_size - i), end='')\n",
    "        print('*' * i)\n",
    "\n",
    "\n",
    "user_input = int(input('Enter a number: '))\n",
    "generate_mario_pyramid(user_input)"
   ]
  },
  {
   "cell_type": "markdown",
   "id": "e00d89b7-170e-4ebe-8123-6269bfad2c50",
   "metadata": {},
   "source": [
    "## Lab 2"
   ]
  },
  {
   "cell_type": "code",
   "execution_count": 1,
   "id": "10441f0e-6ae9-4559-b691-411c53b779a1",
   "metadata": {},
   "outputs": [
    {
     "name": "stdout",
     "output_type": "stream",
     "text": [
      "    *\n",
      "   **\n",
      "  ***\n",
      " ****\n",
      "*****\n"
     ]
    }
   ],
   "source": [
    "def lst_to_mario(lst):\n",
    "    '''\n",
    "    print the mario pyramid based on a list of empty string\n",
    "    Args:\n",
    "        lst (list): list of empty strings\n",
    "    Returns:\n",
    "        None\n",
    "    '''\n",
    "    for i in range(1, len(lst) + 1):\n",
    "        lst[-i] = '*'\n",
    "        print(''.join(lst))\n",
    "\n",
    "l = [' ', ' ', ' ', ' ', ' ']\n",
    "lst_to_mario(l)"
   ]
  },
  {
   "cell_type": "markdown",
   "id": "34069f79-175f-489e-b9dd-5bc957fe937a",
   "metadata": {},
   "source": [
    "#### Task 1: Fill an array of 5 elements from the user, sort it in descending and ascending orders then display the output."
   ]
  },
  {
   "cell_type": "code",
   "execution_count": 14,
   "id": "30ef6dfe-877c-4df3-ae9d-989c53bb50f2",
   "metadata": {},
   "outputs": [
    {
     "name": "stdin",
     "output_type": "stream",
     "text": [
      "Enter a number:  12\n",
      "Enter a number:  3\n",
      "Enter a number:  5\n",
      "Enter a number:  2\n",
      "Enter a number:  11\n"
     ]
    },
    {
     "name": "stdout",
     "output_type": "stream",
     "text": [
      "Original List:  [12, 3, 5, 2, 11]\n",
      "Sorted Descending:  [12, 11, 5, 3, 2]\n",
      "Sorted Ascedning:  [2, 3, 5, 11, 12]\n"
     ]
    }
   ],
   "source": [
    "def print_sorted_arr(nums):\n",
    "    print('Original List: ', nums)\n",
    "    print('Sorted Descending: ', sorted(nums, reverse=True))\n",
    "    print('Sorted Ascedning: ', sorted(nums))\n",
    "\n",
    "nums = []\n",
    "while len(nums) < 5:\n",
    "    x = input('Enter a number: ').strip()\n",
    "    if x.isdigit():\n",
    "        nums.append(int(x))\n",
    "    else:\n",
    "        print(\"Wrong input! Please enter a number\")\n",
    "\n",
    "print_sorted_arr(nums)"
   ]
  },
  {
   "cell_type": "markdown",
   "id": "b0c970ec-5c3e-478e-b331-9cee0670b9dc",
   "metadata": {},
   "source": [
    "#### Task 2: Write a program that generate a multiplication table from 1 to the number passed."
   ]
  },
  {
   "cell_type": "code",
   "execution_count": 15,
   "id": "80c40798-232c-44d9-a9b6-dfda340094b4",
   "metadata": {},
   "outputs": [
    {
     "name": "stdin",
     "output_type": "stream",
     "text": [
      "Enter a number:  5\n"
     ]
    },
    {
     "name": "stdout",
     "output_type": "stream",
     "text": [
      "[[1], [2, 4], [3, 6, 9], [4, 8, 12, 16], [5, 10, 15, 20, 25]]\n"
     ]
    }
   ],
   "source": [
    "def get_mult_table(n):\n",
    "    tables = []\n",
    "    for i in range(1, n+1):\n",
    "        mult_table = []\n",
    "        for j in range(1, i+1):\n",
    "            mult_table.append(j * i)\n",
    "        tables.append(mult_table)\n",
    "    \n",
    "    return tables\n",
    "\n",
    "n = input('Enter a number: ')\n",
    "while not n.isdigit():\n",
    "    n = input(\"Please enter a number: \")\n",
    "    \n",
    "n = int(n)\n",
    "\n",
    "tables = get_mult_table(n)\n",
    "print(tables)"
   ]
  },
  {
   "cell_type": "markdown",
   "id": "36d458bf-5804-4aca-a418-e62fafcd3d27",
   "metadata": {},
   "source": [
    "#### Task 3: Ask the user for his name then confirm that he has entered his name (not an empty string/integers). Then proceed to ask him for his email and print all this data (Bonus) check if it is a valid email or not."
   ]
  },
  {
   "cell_type": "code",
   "execution_count": 19,
   "id": "f441b848-5f4c-4b4a-b56c-655725be01f0",
   "metadata": {},
   "outputs": [
    {
     "name": "stdin",
     "output_type": "stream",
     "text": [
      "Please enter your name:  \n",
      "Please enter your name:   \n",
      "Please enter your name:  123\n",
      "Please enter your name:  Nour\n",
      "Please enter your email:  nour@.com\n",
      "Please enter your email:  nour@com\n",
      "Please enter your email:  nour.com\n",
      "Please enter your email:  @.com\n",
      "Please enter your email:  nour@gmail.com\n"
     ]
    },
    {
     "name": "stdout",
     "output_type": "stream",
     "text": [
      "Nour\n",
      "nour@gmail.com\n"
     ]
    }
   ],
   "source": [
    "def is_valid_email(email):\n",
    "    if '@' in email:\n",
    "        username, domain = email.split('@')\n",
    "        if username and domain:\n",
    "            d1, *d2 = domain.split('.')\n",
    "            if d1 and d2:\n",
    "                return True\n",
    "    return False\n",
    "\n",
    "\n",
    "def is_valid_name(name):\n",
    "    return name and not name.isdigit()\n",
    "\n",
    "\n",
    "name = ''\n",
    "while not is_valid_name(name):\n",
    "    name = input(\"Please enter your name: \").strip()\n",
    "\n",
    "email = ''\n",
    "while not is_valid_name(email) or not is_valid_email(email):\n",
    "    email = input(\"Please enter your email: \").strip()\n",
    "        \n",
    "print(name)\n",
    "print(email)"
   ]
  }
 ],
 "metadata": {
  "kernelspec": {
   "display_name": "Python 3 (ipykernel)",
   "language": "python",
   "name": "python3"
  },
  "language_info": {
   "codemirror_mode": {
    "name": "ipython",
    "version": 3
   },
   "file_extension": ".py",
   "mimetype": "text/x-python",
   "name": "python",
   "nbconvert_exporter": "python",
   "pygments_lexer": "ipython3",
   "version": "3.12.7"
  }
 },
 "nbformat": 4,
 "nbformat_minor": 5
}
