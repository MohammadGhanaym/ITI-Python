{
 "cells": [
  {
   "cell_type": "code",
   "execution_count": 60,
   "id": "69a189be-0376-4001-a1f9-3c11c77fffd0",
   "metadata": {},
   "outputs": [],
   "source": [
    "class Book:\n",
    "    def __init__(self, text):\n",
    "        print('Book init')\n",
    "        self.text = text\n",
    "\n",
    "class Ebook(Book):\n",
    "    def __init__(self, text):\n",
    "        print('Ebook init')\n",
    "        super().__init__(text)\n",
    "        print('This is an Ebook')\n",
    "\n",
    "class PrintedBook(Book):\n",
    "    def __init__(self, text):\n",
    "        print('PrintedBook init')\n",
    "        super(PrintedBook, self).__init__(text)\n",
    "        print('This is a printed book')\n",
    "\n",
    "class Mybook(Ebook, PrintedBook):\n",
    "    def __init__(self, text):\n",
    "        super().__init__(text)"
   ]
  },
  {
   "cell_type": "code",
   "execution_count": 61,
   "id": "65f5614e-74ab-46b7-ad56-00c703421001",
   "metadata": {},
   "outputs": [
    {
     "name": "stdout",
     "output_type": "stream",
     "text": [
      "Ebook init\n",
      "PrintedBook init\n",
      "Book init\n",
      "This is a printed book\n",
      "This is an Ebook\n"
     ]
    }
   ],
   "source": [
    "mybook = Mybook('Hello, world')"
   ]
  },
  {
   "cell_type": "code",
   "execution_count": 52,
   "id": "0852de87-14dc-48ea-9602-4a355821341c",
   "metadata": {},
   "outputs": [
    {
     "name": "stdout",
     "output_type": "stream",
     "text": [
      "Hello, world\n"
     ]
    }
   ],
   "source": [
    "print(mybook.text)"
   ]
  },
  {
   "cell_type": "code",
   "execution_count": 62,
   "id": "97751841-be7b-4d60-b4c2-8cffebb9d05d",
   "metadata": {},
   "outputs": [
    {
     "name": "stdout",
     "output_type": "stream",
     "text": [
      "Person init\n",
      "Employee init\n"
     ]
    }
   ],
   "source": [
    "class Person:\n",
    "    def __init__(self, name):\n",
    "        self.name = name\n",
    "        print('Person init')\n",
    "\n",
    "class Employee(Person):\n",
    "    def __init__(self, name, emp_id):\n",
    "        super().__init__(name)\n",
    "        self.employee_id = emp_id\n",
    "        print('Employee init')\n",
    "\n",
    "class Teacher(Employee, Person):\n",
    "    pass\n",
    "\n",
    "ahmed = Teacher('Ahmed', '123')"
   ]
  },
  {
   "cell_type": "code",
   "execution_count": null,
   "id": "0538cf4a-056f-4f5e-a0a2-1235938522c8",
   "metadata": {},
   "outputs": [],
   "source": []
  },
  {
   "cell_type": "code",
   "execution_count": 57,
   "id": "11db39a9-006b-4f47-9fb0-8c0d1597112a",
   "metadata": {},
   "outputs": [
    {
     "name": "stdout",
     "output_type": "stream",
     "text": [
      "Mammal Eat\n"
     ]
    }
   ],
   "source": [
    "class Human:\n",
    "    def eat(self):\n",
    "        print('Human Eat')\n",
    "\n",
    "class Mammal:\n",
    "    def eat(self):\n",
    "        print('Mammal Eat')\n",
    "\n",
    "class Employee(Mammal, Human):\n",
    "    pass\n",
    "\n",
    "\n",
    "nour = Employee()\n",
    "nour.eat()"
   ]
  },
  {
   "cell_type": "code",
   "execution_count": null,
   "id": "799c3e16-94c2-49ba-b5de-f6628e951844",
   "metadata": {},
   "outputs": [],
   "source": []
  }
 ],
 "metadata": {
  "kernelspec": {
   "display_name": "Python 3 (ipykernel)",
   "language": "python",
   "name": "python3"
  },
  "language_info": {
   "codemirror_mode": {
    "name": "ipython",
    "version": 3
   },
   "file_extension": ".py",
   "mimetype": "text/x-python",
   "name": "python",
   "nbconvert_exporter": "python",
   "pygments_lexer": "ipython3",
   "version": "3.12.7"
  }
 },
 "nbformat": 4,
 "nbformat_minor": 5
}
