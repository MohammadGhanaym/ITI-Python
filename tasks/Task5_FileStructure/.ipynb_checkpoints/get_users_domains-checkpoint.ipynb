{
 "cells": [
  {
   "cell_type": "code",
   "execution_count": 6,
   "id": "4fb8b6f8-a748-4efc-b6db-72d8166ce0e8",
   "metadata": {},
   "outputs": [],
   "source": [
    "import csv\n",
    "from email_utils import get_email_domain"
   ]
  },
  {
   "cell_type": "code",
   "execution_count": 7,
   "id": "3bfd4c5c-e787-48dd-97cb-d9e39dbaeb4a",
   "metadata": {},
   "outputs": [],
   "source": [
    "file = open('users.csv', 'r', newline=\"\")\n",
    "reader = csv.reader(file)"
   ]
  },
  {
   "cell_type": "code",
   "execution_count": 8,
   "id": "9bb3147f-16cd-4146-bdf3-ffc54a0f2003",
   "metadata": {},
   "outputs": [],
   "source": [
    "valid_emails = []\n",
    "invalid_emails = []\n",
    "domains = set()\n",
    "\n",
    "reader = list(reader)\n",
    "for row in range(1, len(reader)):\n",
    "    try:\n",
    "        domains.add(get_email_domain(reader[row][1]))\n",
    "        valid_emails.append(reader[row][1])\n",
    "    except Exception as e:\n",
    "        if str(e) == 'Invalid email address':\n",
    "            invalid_emails.append(reader[row][1])"
   ]
  },
  {
   "cell_type": "code",
   "execution_count": 9,
   "id": "196207af-acef-4b2f-b156-91b4ea5088b0",
   "metadata": {},
   "outputs": [
    {
     "name": "stdout",
     "output_type": "stream",
     "text": [
      "Unique Domains: {'iti.gov.eg', 'example.org', 'hotmail.com', 'outlook.com', 'yahoo.com', 'gmail.com'}\n",
      "Number of Valid Emails: 81\n",
      "Number of Invalid Emails: 19\n",
      "Invalid Emails: \n",
      "['mohamed81@', 'lamyaa16yahoo@.com', 'saeed90iti@eg', 'saeed79@hotmail,com', 'zeinab55@', 'rana66iti@eg', 'mariam13@', 'naglaa3@gmail', 'sara75@hotmail,com', 'ahmed44@gmail', 'youssef73yahoo@.com', 'ahmed28@gmail', 'omar34@gmail', 'mariam60yahoo@.com', 'khaled26@gmail', 'ahmed83@hotmail,com', 'ahmed48iti@eg', 'naglaa8yahoo@.com', 'ahmed89@gmail']\n"
     ]
    }
   ],
   "source": [
    "print(\"Unique Domains: {}\".format(domains))\n",
    "print(\"Number of Valid Emails: {}\".format(len(valid_emails)))\n",
    "print(\"Number of Invalid Emails: {}\".format(len(invalid_emails)))\n",
    "print(\"Invalid Emails: \")\n",
    "print(invalid_emails)"
   ]
  }
 ],
 "metadata": {
  "kernelspec": {
   "display_name": "Python 3 (ipykernel)",
   "language": "python",
   "name": "python3"
  },
  "language_info": {
   "codemirror_mode": {
    "name": "ipython",
    "version": 3
   },
   "file_extension": ".py",
   "mimetype": "text/x-python",
   "name": "python",
   "nbconvert_exporter": "python",
   "pygments_lexer": "ipython3",
   "version": "3.12.7"
  }
 },
 "nbformat": 4,
 "nbformat_minor": 5
}
