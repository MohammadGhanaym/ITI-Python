{
 "cells": [
  {
   "cell_type": "code",
   "execution_count": 14,
   "id": "ec8c63fe-ab1a-4b62-a46f-198224bdda03",
   "metadata": {},
   "outputs": [
    {
     "name": "stdout",
     "output_type": "stream",
     "text": [
      "    *\n",
      "   **\n",
      "  ***\n",
      " ****\n",
      "*****\n"
     ]
    }
   ],
   "source": [
    "l = [' ', ' ', ' ', ' ', ' ']\n",
    "\n",
    "for i in range(1, len(l) + 1):\n",
    "    l[-i] = '*'\n",
    "    print(''.join(l))"
   ]
  },
  {
   "cell_type": "markdown",
   "id": "0de8f192-5633-41f2-bbe7-d45c4bd0c6c0",
   "metadata": {},
   "source": [
    "#### Task 1: Fill an array of 5 elements from the user, sort it in descending and ascending orders then display the output."
   ]
  },
  {
   "cell_type": "code",
   "execution_count": 3,
   "id": "94a6e31f-c773-4ec3-b926-4274247e84dc",
   "metadata": {},
   "outputs": [
    {
     "name": "stdin",
     "output_type": "stream",
     "text": [
      "Enter a number:  k\n"
     ]
    },
    {
     "name": "stdout",
     "output_type": "stream",
     "text": [
      "Wrong input! Please enter a number\n"
     ]
    },
    {
     "name": "stdin",
     "output_type": "stream",
     "text": [
      "Enter a number:  lsfl\n"
     ]
    },
    {
     "name": "stdout",
     "output_type": "stream",
     "text": [
      "Wrong input! Please enter a number\n"
     ]
    },
    {
     "name": "stdin",
     "output_type": "stream",
     "text": [
      "Enter a number:  *\n"
     ]
    },
    {
     "name": "stdout",
     "output_type": "stream",
     "text": [
      "Wrong input! Please enter a number\n"
     ]
    },
    {
     "name": "stdin",
     "output_type": "stream",
     "text": [
      "Enter a number:  8\n",
      "Enter a number:  2\n",
      "Enter a number:  10\n",
      "Enter a number:  3\n",
      "Enter a number:  5\n"
     ]
    },
    {
     "name": "stdout",
     "output_type": "stream",
     "text": [
      "Nums:  [8, 2, 10, 3, 5]\n",
      "Sorted Descending:  [10, 8, 5, 3, 2]\n",
      "Sorted Ascedning:  [2, 3, 5, 8, 10]\n"
     ]
    }
   ],
   "source": [
    "nums = []\n",
    "while len(nums) < 5:\n",
    "    x = input('Enter a number: ').strip()\n",
    "    if x.isdigit():\n",
    "        nums.append(int(x))\n",
    "    else:\n",
    "        print(\"Wrong input! Please enter a number\")\n",
    "\n",
    "print('Nums: ', nums)\n",
    "print('Sorted Descending: ', sorted(nums, reverse=True))\n",
    "print('Sorted Ascedning: ', sorted(nums))"
   ]
  },
  {
   "cell_type": "markdown",
   "id": "3f381fd6-5bbb-494f-a842-d473f7c03004",
   "metadata": {},
   "source": [
    "#### Task 2: Write a program that generate a multiplication table from 1 to the number passed."
   ]
  },
  {
   "cell_type": "code",
   "execution_count": 10,
   "id": "53b9dcca-ae2e-4319-b8b8-0a07d4161a14",
   "metadata": {},
   "outputs": [
    {
     "name": "stdin",
     "output_type": "stream",
     "text": [
      "Enter a number:  3\n"
     ]
    },
    {
     "name": "stdout",
     "output_type": "stream",
     "text": [
      "[[1], [2, 4], [3, 6, 9]]\n"
     ]
    }
   ],
   "source": [
    "n = input('Enter a number: ')\n",
    "while not n.isdigit():\n",
    "    n = input(\"Please enter a number: \")\n",
    "    \n",
    "n = int(n)\n",
    "\n",
    "tables = []\n",
    "for i in range(1, n+1):\n",
    "    mult_table = []\n",
    "    for j in range(1, i+1):\n",
    "        mult_table.append(j * i)\n",
    "    tables.append(mult_table)\n",
    "\n",
    "del mult_table\n",
    "\n",
    "print(tables)"
   ]
  },
  {
   "cell_type": "markdown",
   "id": "8ededdd1-549a-40e9-b57c-2d138d9911fa",
   "metadata": {},
   "source": [
    "#### Task 3: Ask the user for his name then confirm that he has entered his name (not an empty string/integers). Then proceed to ask him for his email and print all this data (Bonus) check if it is a valid email or not."
   ]
  },
  {
   "cell_type": "code",
   "execution_count": null,
   "id": "dfa0e7e3-0031-45ec-8cce-7ceaf084e3c2",
   "metadata": {},
   "outputs": [
    {
     "name": "stdin",
     "output_type": "stream",
     "text": [
      "Please enter your name:  nour\n",
      "Please enter your email:  omar\n"
     ]
    },
    {
     "name": "stdout",
     "output_type": "stream",
     "text": [
      "['omar']\n",
      "Invalid Email!\n"
     ]
    }
   ],
   "source": [
    "name = ''\n",
    "while len(name) == 0 or name[0].isdigit() or name.isdigit():\n",
    "    name = input(\"Please enter your name: \").strip()\n",
    "\n",
    "email = ''\n",
    "while len(email) == 0 or email[0].isdigit() or email.isdigit():\n",
    "    email = input(\"Please enter your email: \").strip()\n",
    "    # validate email\n",
    "    validate_email = email.split('@')\n",
    "    print(validate_email)\n",
    "    flag = 1\n",
    "    if len(validate_email) == 2 and validate_email[0].isalnum(): # check that there is one @ and the first part is alphanumeric\n",
    "        validate_email = validate_email[1].split('.')\n",
    "        if len(validate_email) == 2 and validate_email[0].isalpha() and validate_email[0].isalpha():\n",
    "            flag = 0\n",
    "            \n",
    "    if flag:\n",
    "        print('Invalid Email!')\n",
    "        email = ''\n",
    "        \n",
    "print(name)\n",
    "print(email)"
   ]
  },
  {
   "cell_type": "code",
   "execution_count": null,
   "id": "5fe675f1-3b61-4862-b557-3cf8ad12abd2",
   "metadata": {},
   "outputs": [],
   "source": [
    "omat"
   ]
  }
 ],
 "metadata": {
  "kernelspec": {
   "display_name": "Python 3 (ipykernel)",
   "language": "python",
   "name": "python3"
  },
  "language_info": {
   "codemirror_mode": {
    "name": "ipython",
    "version": 3
   },
   "file_extension": ".py",
   "mimetype": "text/x-python",
   "name": "python",
   "nbconvert_exporter": "python",
   "pygments_lexer": "ipython3",
   "version": "3.12.7"
  }
 },
 "nbformat": 4,
 "nbformat_minor": 5
}
