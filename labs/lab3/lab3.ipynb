{
 "cells": [
  {
   "cell_type": "markdown",
   "id": "55ed89fe-5364-4496-907a-7b84159a2510",
   "metadata": {},
   "source": [
    "#### Task 1: Validate email"
   ]
  },
  {
   "cell_type": "code",
   "execution_count": 1,
   "id": "e2a63f70-53bd-4e11-9b10-36c8b7a52149",
   "metadata": {},
   "outputs": [],
   "source": [
    "def is_valid_email(email):\n",
    "    if '@' in email:\n",
    "        username, domain = email.split('@')\n",
    "        if username and domain:\n",
    "            *d1, d2 = domain.split('.')\n",
    "            if d1 and d2:\n",
    "                return True\n",
    "    return False"
   ]
  },
  {
   "cell_type": "code",
   "execution_count": 2,
   "id": "1c9a0ea8-b46a-4938-986b-52ba04a5f4a6",
   "metadata": {},
   "outputs": [
    {
     "name": "stdin",
     "output_type": "stream",
     "text": [
      "Enter your email:  nour@.com\n"
     ]
    },
    {
     "name": "stdout",
     "output_type": "stream",
     "text": [
      "nour@.com\n"
     ]
    }
   ],
   "source": [
    "email = ''\n",
    "while not is_valid_email(email):\n",
    "    email = input('Enter your email: ')\n",
    "\n",
    "print(email)"
   ]
  },
  {
   "cell_type": "markdown",
   "id": "5cdb9412-1337-41e1-9e01-27d877f972be",
   "metadata": {},
   "source": [
    "#### Task2: Auth Users"
   ]
  },
  {
   "cell_type": "code",
   "execution_count": 22,
   "id": "f6aab5c4-9b81-4c10-a88e-339f768b1249",
   "metadata": {},
   "outputs": [
    {
     "name": "stdin",
     "output_type": "stream",
     "text": [
      "Enter your name:  ahmed\n"
     ]
    },
    {
     "name": "stdout",
     "output_type": "stream",
     "text": [
      "You are not a user, please sign up.\n"
     ]
    }
   ],
   "source": [
    "users = [\n",
    "    {'name':'omar', 'pass':'123'},\n",
    "    {'name':'nour', 'pass':'456'}\n",
    "    ]\n",
    "\n",
    "name = input('Enter your name: ')\n",
    "for user in users:\n",
    "    if name == user['name']:\n",
    "        password = input(\"Enter your password: \")\n",
    "        if password == user['pass']:\n",
    "            print(\"Welcome,\", name)\n",
    "            break\n",
    "        else:\n",
    "            print(\"Incorrect Password\")\n",
    "            break\n",
    "    else:\n",
    "        continue\n",
    "else:\n",
    "    print(\"You are not a user, please sign up.\")"
   ]
  },
  {
   "cell_type": "markdown",
   "id": "30576058-b68e-4e0d-9c3b-f5f1db062a59",
   "metadata": {},
   "source": [
    "#### Task3: Get users domains"
   ]
  },
  {
   "cell_type": "markdown",
   "id": "495cf252-6ccb-4351-8203-5239d95fdade",
   "metadata": {},
   "source": [
    "#### Task4: Validate list of emails"
   ]
  },
  {
   "cell_type": "code",
   "execution_count": 44,
   "id": "52a64bcc-5899-4489-a544-62d7f5864001",
   "metadata": {},
   "outputs": [
    {
     "name": "stdout",
     "output_type": "stream",
     "text": [
      "['gmail.com', 'iti.gov.eg', 'outlook.com', 'yahoo.com', '.com', 'yahoo.com']\n"
     ]
    }
   ],
   "source": [
    "emails = [\n",
    "    'nour@gmail.com',\n",
    "    'omar@iti.gov.eg',\n",
    "    'mohammad@outlook.com',\n",
    "    'ibrahim@yahoo.com',\n",
    "    'sayed@.com',\n",
    "    '@yahoo.com'\n",
    "    ]\n",
    "\n",
    "valid_emails = filter(is_valid_email, emails)\n",
    "users_domains = []\n",
    "\n",
    "\n",
    "users_domains = list(map(lambda email: email.split('@')[1], emails))\n",
    "\n",
    "print(users_domains)"
   ]
  }
 ],
 "metadata": {
  "kernelspec": {
   "display_name": "Python 3 (ipykernel)",
   "language": "python",
   "name": "python3"
  },
  "language_info": {
   "codemirror_mode": {
    "name": "ipython",
    "version": 3
   },
   "file_extension": ".py",
   "mimetype": "text/x-python",
   "name": "python",
   "nbconvert_exporter": "python",
   "pygments_lexer": "ipython3",
   "version": "3.12.7"
  }
 },
 "nbformat": 4,
 "nbformat_minor": 5
}
