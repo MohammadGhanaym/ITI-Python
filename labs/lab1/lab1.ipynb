{
 "cells": [
  {
   "cell_type": "markdown",
   "id": "2de34567-65ea-4ff6-af10-860fce20ec42",
   "metadata": {},
   "source": [
    "#### Task 1:Write a program that counts up  the number of vowels in a string"
   ]
  },
  {
   "cell_type": "code",
   "execution_count": 8,
   "id": "3d9baaa2-068e-4d32-8023-2da617e4b8e2",
   "metadata": {},
   "outputs": [
    {
     "name": "stdin",
     "output_type": "stream",
     "text": [
      " Nour Ghanaym\n"
     ]
    },
    {
     "name": "stdout",
     "output_type": "stream",
     "text": [
      "Number of vowels is  4\n"
     ]
    }
   ],
   "source": [
    "vowels = 'aeiouAEIOU'\n",
    "user_input = input()\n",
    "vowels_count = 0\n",
    "for c in user_input:\n",
    "    if c in vowels:\n",
    "        vowels_count += 1\n",
    "print('Number of vowels is ', vowels_count)"
   ]
  },
  {
   "cell_type": "markdown",
   "id": "1d131e3b-61ef-4a46-9087-08177cb467ac",
   "metadata": {},
   "source": [
    "#### Task 2: Write a program that prints the locations of \"i\" character in any string you added."
   ]
  },
  {
   "cell_type": "code",
   "execution_count": 10,
   "id": "94cb1595-1b11-455c-b899-5bce6c8da014",
   "metadata": {},
   "outputs": [
    {
     "name": "stdin",
     "output_type": "stream",
     "text": [
      " iti\n"
     ]
    },
    {
     "name": "stdout",
     "output_type": "stream",
     "text": [
      " i location 0\n",
      " i location 2\n"
     ]
    }
   ],
   "source": [
    "user_input = input()\n",
    "for idx in range(len(user_input)):\n",
    "    if user_input[idx] == 'i':\n",
    "        print(f' i location {idx}')"
   ]
  },
  {
   "cell_type": "markdown",
   "id": "2741c2a8-bd70-4985-9c09-6a4fc6af09e9",
   "metadata": {},
   "source": [
    "#### Task 3: Write a program that generate a multiplication table from 1 to the number passed."
   ]
  },
  {
   "cell_type": "code",
   "execution_count": 17,
   "id": "c4dbf7a0-b308-4e1b-8650-0e351c9a6098",
   "metadata": {},
   "outputs": [
    {
     "name": "stdin",
     "output_type": "stream",
     "text": [
      "Enter a number:  5\n"
     ]
    },
    {
     "name": "stdout",
     "output_type": "stream",
     "text": [
      "1x1=1, 2x1=2, 2x2=4, 3x1=3, 3x2=6, 3x3=9, 4x1=4, 4x2=8, 4x3=12, 4x4=16, 5x1=5, 5x2=10, 5x3=15, 5x4=20, 5x5=25, "
     ]
    }
   ],
   "source": [
    "user_input = int(input('Enter a number: '))\n",
    "for i in range(1, user_input + 1):\n",
    "    for j in range(1, i+1):\n",
    "        print(f'{i}x{j}={i * j}', end=', ')"
   ]
  },
  {
   "cell_type": "markdown",
   "id": "78a6cfaf-0584-4073-a4df-c4fe669481d1",
   "metadata": {},
   "source": [
    "#### Task 4: Write a program that build a Mario pyramid like below"
   ]
  },
  {
   "cell_type": "code",
   "execution_count": 26,
   "id": "166d9410-ab3a-4968-8046-92a089e31684",
   "metadata": {},
   "outputs": [
    {
     "name": "stdin",
     "output_type": "stream",
     "text": [
      "Enter a number:  4\n"
     ]
    },
    {
     "name": "stdout",
     "output_type": "stream",
     "text": [
      "   *\n",
      "  **\n",
      " ***\n",
      "****\n"
     ]
    }
   ],
   "source": [
    "user_input = int(input('Enter a number: '))\n",
    "\n",
    "for i in range(1, user_input + 1):\n",
    "    print(' ' * (user_input - i), end='')\n",
    "    print('*' * i)"
   ]
  }
 ],
 "metadata": {
  "kernelspec": {
   "display_name": "Python 3 (ipykernel)",
   "language": "python",
   "name": "python3"
  },
  "language_info": {
   "codemirror_mode": {
    "name": "ipython",
    "version": 3
   },
   "file_extension": ".py",
   "mimetype": "text/x-python",
   "name": "python",
   "nbconvert_exporter": "python",
   "pygments_lexer": "ipython3",
   "version": "3.12.7"
  }
 },
 "nbformat": 4,
 "nbformat_minor": 5
}
