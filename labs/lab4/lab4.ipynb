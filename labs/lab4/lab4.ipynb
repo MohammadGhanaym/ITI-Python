{
 "cells": [
  {
   "cell_type": "markdown",
   "id": "696d632a-5335-43d7-9823-8d8f4b138d8d",
   "metadata": {},
   "source": [
    "## lab4: \n",
    "- email validation error handling.\n",
    "    - Use `try` and `except`\n",
    "- Allow the user to try for 5 times\n",
    "    - If valid, break. Otherwise, raise error in case the user completed the 5 tries.\n",
    "  "
   ]
  },
  {
   "cell_type": "markdown",
   "id": "b9c7f328-29b6-4790-bea5-4919bafbdcaf",
   "metadata": {},
   "source": [
    "task: create modules from previous functions."
   ]
  },
  {
   "cell_type": "code",
   "execution_count": 18,
   "id": "ffc63cd1-761b-438c-9ff0-51a337f9d35a",
   "metadata": {},
   "outputs": [],
   "source": [
    "def is_valid_email(email):\n",
    "    try:\n",
    "        if '@' in email:\n",
    "            username, domain = email.split('@')\n",
    "            if username and domain:\n",
    "                *d1, d2 = domain.split('.')\n",
    "                if ''.join(d1) and d2:\n",
    "                    return True\n",
    "    except ValueError:\n",
    "        print(\"Invalid Email!\")\n",
    "        return False\n",
    "        \n",
    "    return False"
   ]
  },
  {
   "cell_type": "code",
   "execution_count": 19,
   "id": "0a59d2f9-e101-45ee-8be0-8e5ba60f0437",
   "metadata": {},
   "outputs": [
    {
     "name": "stdin",
     "output_type": "stream",
     "text": [
      "Please enter your email:  nour..com\n",
      "Please enter your email:  nour@com\n",
      "Please enter your email:  nour@@gmail.com\n"
     ]
    },
    {
     "name": "stdout",
     "output_type": "stream",
     "text": [
      "Invalid Email!\n"
     ]
    },
    {
     "name": "stdin",
     "output_type": "stream",
     "text": [
      "Please enter your email:  nour.com\n",
      "Please enter your email:  @.com\n"
     ]
    },
    {
     "ename": "Exception",
     "evalue": "You expired your 5 tries",
     "output_type": "error",
     "traceback": [
      "\u001b[1;31m---------------------------------------------------------------------------\u001b[0m",
      "\u001b[1;31mException\u001b[0m                                 Traceback (most recent call last)",
      "Cell \u001b[1;32mIn[19], line 6\u001b[0m\n\u001b[0;32m      4\u001b[0m         \u001b[38;5;28;01mbreak\u001b[39;00m\n\u001b[0;32m      5\u001b[0m \u001b[38;5;28;01melse\u001b[39;00m:\n\u001b[1;32m----> 6\u001b[0m     \u001b[38;5;28;01mraise\u001b[39;00m \u001b[38;5;167;01mException\u001b[39;00m(\u001b[38;5;124m'\u001b[39m\u001b[38;5;124mYou expired your 5 tries\u001b[39m\u001b[38;5;124m'\u001b[39m)\n\u001b[0;32m      8\u001b[0m \u001b[38;5;28mprint\u001b[39m(email)\n",
      "\u001b[1;31mException\u001b[0m: You expired your 5 tries"
     ]
    }
   ],
   "source": [
    "\n",
    "for _ in range(5):\n",
    "    email = input('Please enter your email: ')\n",
    "    if is_valid_email(email):\n",
    "        break\n",
    "else:\n",
    "    raise Exception('You expired your 5 tries')\n",
    "\n",
    "print(email)"
   ]
  },
  {
   "cell_type": "code",
   "execution_count": null,
   "id": "4623b503-d84d-480e-b8df-26b6c0491c07",
   "metadata": {},
   "outputs": [],
   "source": []
  }
 ],
 "metadata": {
  "kernelspec": {
   "display_name": "Python 3 (ipykernel)",
   "language": "python",
   "name": "python3"
  },
  "language_info": {
   "codemirror_mode": {
    "name": "ipython",
    "version": 3
   },
   "file_extension": ".py",
   "mimetype": "text/x-python",
   "name": "python",
   "nbconvert_exporter": "python",
   "pygments_lexer": "ipython3",
   "version": "3.12.7"
  }
 },
 "nbformat": 4,
 "nbformat_minor": 5
}
